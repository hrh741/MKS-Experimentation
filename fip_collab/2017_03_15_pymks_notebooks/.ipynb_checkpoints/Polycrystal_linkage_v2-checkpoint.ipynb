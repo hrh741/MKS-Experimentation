{
 "cells": [
  {
   "cell_type": "code",
   "execution_count": 1,
   "metadata": {
    "collapsed": true
   },
   "outputs": [],
   "source": [
    "%matplotlib inline\n",
    "%load_ext autoreload\n",
    "%autoreload 2"
   ]
  },
  {
   "cell_type": "code",
   "execution_count": 2,
   "metadata": {
    "collapsed": false
   },
   "outputs": [
    {
     "name": "stdout",
     "output_type": "stream",
     "text": [
      "microstructure data retrieved\n",
      "response data retrieved\n"
     ]
    }
   ],
   "source": [
    "import urllib\n",
    "import ssl\n",
    "\n",
    "context=ssl._create_unverified_context()\n",
    "\n",
    "eulerfile=urllib.URLopener(context=context)\n",
    "eulerfile.retrieve('https://matin.gatech.edu/resources/61/download/euler_all.hdf5', 'euler_all.hdf5')\n",
    "print \"microstructure data retrieved\"\n",
    "\n",
    "responsesfile=urllib.URLopener(context=context)\n",
    "responsesfile.retrieve('https://matin.gatech.edu/resources/62/download/responses_all.hdf5', 'responses_all.hdf5')\n",
    "print \"response data retrieved\""
   ]
  },
  {
   "cell_type": "markdown",
   "metadata": {},
   "source": [
    "Load the euler angles for each microstructure class"
   ]
  },
  {
   "cell_type": "code",
   "execution_count": 3,
   "metadata": {
    "collapsed": false
   },
   "outputs": [],
   "source": [
    "import h5py\n",
    "import numpy as np\n",
    "\n",
    "n_class = 12\n",
    "ns = 20\n",
    "el = 21\n",
    "ns_tot = n_class*ns\n",
    "\n",
    "euler = np.zeros((ns_tot, 3, el**3))\n",
    "\n",
    "f = h5py.File('euler_all.hdf5', 'r')\n",
    "\n",
    "c = 0\n",
    "for name in f.keys():\n",
    "    euler[c:c+ns, ...] = f.get(name)[...]\n",
    "    c += ns\n",
    "\n",
    "f.close()"
   ]
  },
  {
   "cell_type": "markdown",
   "metadata": {},
   "source": [
    "Load the responses for each microstructure class"
   ]
  },
  {
   "cell_type": "code",
   "execution_count": 4,
   "metadata": {
    "collapsed": false
   },
   "outputs": [],
   "source": [
    "y_st = np.zeros((ns_tot,))\n",
    "y_ys = np.zeros((ns_tot,))\n",
    "\n",
    "f = h5py.File('responses_all.hdf5', 'r')\n",
    "\n",
    "c = 0\n",
    "d = 0\n",
    "for name in f.keys():\n",
    "    if 'modulus' in name:\n",
    "        y_st[c:c+ns, ...] = f.get(name)[...]\n",
    "        c += ns\n",
    "    elif 'strength' in name:\n",
    "        y_ys[d:d+ns, ...] = f.get(name)[...]\n",
    "        d += ns\n",
    "    else:\n",
    "        print \"unexpected array detected\"\n",
    "        \n",
    "f.close()"
   ]
  },
  {
   "cell_type": "markdown",
   "metadata": {},
   "source": [
    "Return Bunge-Euler angles to the first fundamental zone (FZ) for hexagonal crystal symmetry.\n",
    "\n",
    "Hexagonal FZ: [0<=phi1<360, 0<=Phi<=90 , 0<=phi2<60]"
   ]
  },
  {
   "cell_type": "code",
   "execution_count": 5,
   "metadata": {
    "collapsed": false
   },
   "outputs": [
    {
     "name": "stdout",
     "output_type": "stream",
     "text": [
      "number of symmetry operators: 12\n",
      "g_sym shape: (2222640L, 3L, 3L)\n",
      "tmp shape: (2222640L, 3L)\n",
      "initial: euler angles less than zero: 26671200\n",
      "final: euler angles less than zero: 0\n"
     ]
    }
   ],
   "source": [
    "import euler_func as ef\n",
    "\n",
    "symop = ef.symhex()\n",
    "n_sym = symop.shape[0]\n",
    "print \"number of symmetry operators: %s\" % n_sym\n",
    "\n",
    "euler_ = euler.swapaxes(1, 2)\n",
    "\n",
    "n_tot = ns_tot*el**3\n",
    "euler_ = euler_.reshape((n_tot, 3))\n",
    "\n",
    "euler_sym = np.zeros((n_sym, n_tot, 3))\n",
    "\n",
    "g_orig = ef.bunge2g(euler_[:, 0], euler_[:, 1], euler_[:, 2])\n",
    "\n",
    "# find the symmetric equivalents to the euler angle within the FZ\n",
    "for sym in xrange(n_sym):\n",
    "    op = symop[sym, ...]\n",
    "\n",
    "    # g_sym: array of orientation matrices transformed with a\n",
    "    # symmetry operator\n",
    "    g_sym = np.einsum('ik,...kj', op, g_orig)\n",
    "\n",
    "    tmp = np.array(ef.g2bunge(g_sym)).transpose()\n",
    "\n",
    "    if sym == 0:\n",
    "        print \"g_sym shape: %s\" % str(g_sym.shape)\n",
    "        print \"tmp shape: %s\" % str(tmp.shape)\n",
    "\n",
    "    del g_sym\n",
    "    euler_sym[sym, ...] = tmp\n",
    "    del tmp\n",
    "\n",
    "# make sure all of the euler angles within the appropriate\n",
    "# ranges (eg. not negative)\n",
    "print \"initial: euler angles less than zero: %s\" % np.sum(euler_sym < 0)\n",
    "lt = euler_sym < 0.0\n",
    "\n",
    "euler_sym += 2*np.pi*lt\n",
    "print \"final: euler angles less than zero: %s\" % np.sum(euler_sym < 0)"
   ]
  },
  {
   "cell_type": "code",
   "execution_count": 6,
   "metadata": {
    "collapsed": false
   },
   "outputs": [],
   "source": [
    "# identify euler angle sets w/in first FZ\n",
    "tmp1 = euler_sym[..., 0] < 2.*np.pi\n",
    "tmp2 = euler_sym[..., 1] <= np.pi/2.\n",
    "tmp3 = euler_sym[..., 2] < np.pi/3.\n",
    "indxs = tmp1*tmp2*tmp3\n",
    "\n",
    "# when there are multiple in the first FZ only pick one\n",
    "tmp4 = np.sum(indxs, axis=0) == 1 \n",
    "tmp4n = np.sum(indxs, axis=0) > 1\n",
    "\n",
    "indxs = indxs*tmp4\n",
    "indxs[0, tmp4n] = 1\n",
    "\n",
    "indxs2 = np.sum(indxs * np.arange(12)[:, None], axis=0)"
   ]
  },
  {
   "cell_type": "markdown",
   "metadata": {},
   "source": [
    "Convert Euler angles from radians to degrees"
   ]
  },
  {
   "cell_type": "code",
   "execution_count": 7,
   "metadata": {
    "collapsed": false
   },
   "outputs": [
    {
     "name": "stdout",
     "output_type": "stream",
     "text": [
      "0.0\n",
      "359.983071149\n",
      "0.0\n",
      "89.9997925898\n",
      "0.0\n",
      "59.9976844143\n"
     ]
    }
   ],
   "source": [
    "X_eul = euler_sym[indxs2,np.arange(indxs2.size),:]\n",
    "X_eul = X_eul.reshape((ns_tot, el, el, el, 3))*(180./np.pi)\n",
    "\n",
    "print X_eul[..., 0].min()\n",
    "print X_eul[..., 0].max()\n",
    "print X_eul[..., 1].min()\n",
    "print X_eul[..., 1].max()\n",
    "print X_eul[..., 2].min()\n",
    "print X_eul[..., 2].max()\n"
   ]
  },
  {
   "cell_type": "markdown",
   "metadata": {},
   "source": [
    "Bin Euler angles to approximate polycrystalline microstructure as a composite microstructure."
   ]
  },
  {
   "cell_type": "code",
   "execution_count": 8,
   "metadata": {
    "collapsed": false
   },
   "outputs": [],
   "source": [
    "degp1 = 45\n",
    "degP = 45\n",
    "degp2 = 30\n",
    "\n",
    "p1max = 360\n",
    "Pmax = 90\n",
    "p2max = 60\n",
    "\n",
    "np1 = p1max/degp1\n",
    "nP = Pmax/degP\n",
    "np2 = p2max/degp2\n",
    "\n",
    "nbin = np1*nP*np2\n",
    "\n",
    "X = np.zeros((ns_tot, el, el, el))\n",
    "\n",
    "for ii in xrange(nbin):\n",
    "    ip1, iP, ip2 = np.unravel_index(ii, (np1, nP, np2))\n",
    "    \n",
    "    tmp0a = X_eul[..., 0] >= ip1*degp1\n",
    "    tmp0b = X_eul[..., 0] < (ip1+1)*degp1\n",
    "    tmp1a = X_eul[..., 1] >= iP*degP\n",
    "    tmp1b = X_eul[..., 1] < (iP+1)*degP\n",
    "    tmp2a = X_eul[..., 2] >= ip2*degp2\n",
    "    tmp2b = X_eul[..., 2] < (ip2+1)*degp2\n",
    "    \n",
    "    tmp = tmp0a*tmp0b*tmp1a*tmp1b*tmp2a*tmp2b\n",
    "    \n",
    "    X += ii*tmp"
   ]
  },
  {
   "cell_type": "code",
   "execution_count": 9,
   "metadata": {
    "collapsed": false
   },
   "outputs": [
    {
     "data": {
      "text/plain": [
       "<matplotlib.colorbar.Colorbar at 0x4cbe8208>"
      ]
     },
     "execution_count": 9,
     "metadata": {},
     "output_type": "execute_result"
    },
    {
     "data": {
      "image/png": "[encoded data removed]",
      "text/plain": [
       "<matplotlib.figure.Figure at 0x70782e8>"
      ]
     },
     "metadata": {},
     "output_type": "display_data"
    },
    {
     "data": {
      "image/png": "[encoded data removed]",
      "text/plain": [
       "<matplotlib.figure.Figure at 0x70782b0>"
      ]
     },
     "metadata": {},
     "output_type": "display_data"
    },
    {
     "data": {
      "image/png": "[encoded data removed]",
      "text/plain": [
       "<matplotlib.figure.Figure at 0x72e7c50>"
      ]
     },
     "metadata": {},
     "output_type": "display_data"
    }
   ],
   "source": [
    "import matplotlib.pyplot as plt\n",
    "\n",
    "plt.figure(figsize=[5, 3])\n",
    "tmp = X.reshape(X.size)\n",
    "n, bins, patches = plt.hist(X.reshape(X.size), 72, normed=1)\n",
    "\n",
    "plt.figure(figsize=[11, 3])\n",
    "ax = plt.imshow(X_eul[0, 0, :, :, 0], origin='lower',\n",
    "                    interpolation='none', cmap='magma')\n",
    "plt.colorbar(ax)\n",
    "\n",
    "plt.figure(figsize=[5, 3])\n",
    "ax = plt.imshow(X[0, 0, :, :], origin='lower',\n",
    "                interpolation='none', cmap='magma')\n",
    "plt.colorbar(ax)"
   ]
  },
  {
   "cell_type": "code",
   "execution_count": 10,
   "metadata": {
    "collapsed": false
   },
   "outputs": [],
   "source": [
    "# obtain training and test sets of MVEs\n",
    "\n",
    "nc = 5\n",
    "nv = 5\n",
    "\n",
    "X_cal = np.zeros((nc*n_class, el, el, el))\n",
    "y_st_cal = np.zeros((nc*n_class,))\n",
    "y_ys_cal = np.zeros((nc*n_class,))\n",
    "\n",
    "X_val = np.zeros((nv*n_class, el, el, el))\n",
    "y_st_val = np.zeros((nv*n_class,))\n",
    "y_ys_val = np.zeros((nv*n_class,))\n",
    "\n",
    "for ii in xrange(n_class):\n",
    "    X_cal[ii*nc:(ii+1)*nc,...] = X[ii*ns:(ii*ns)+nc,...]\n",
    "    y_st_cal[ii*nc:(ii+1)*nc] = y_st[ii*ns:(ii*ns)+nc]\n",
    "    y_ys_cal[ii*nc:(ii+1)*nc] = y_ys[ii*ns:(ii*ns)+nc]\n",
    "\n",
    "    X_val[ii*nv:(ii+1)*nv,...] = X[(ii*ns)+nc:(ii*ns)+nc+nv,...]\n",
    "    y_st_val[ii*nv:(ii+1)*nv] = y_st[(ii*ns)+nc:(ii*ns)+nc+nv]\n",
    "    y_ys_val[ii*nv:(ii+1)*nv] = y_ys[(ii*ns)+nc:(ii*ns)+nc+nv]"
   ]
  },
  {
   "cell_type": "code",
   "execution_count": 11,
   "metadata": {
    "collapsed": false
   },
   "outputs": [
    {
     "name": "stdout",
     "output_type": "stream",
     "text": [
      "most common bin :27\n",
      "correlations for training set computed\n",
      "correlations for test set computed\n"
     ]
    }
   ],
   "source": [
    "from pymks import PrimitiveBasis\n",
    "from pymks.stats import correlate\n",
    "from scipy.stats import mode\n",
    "\n",
    "#identify highest volume fraction bin:\n",
    "md = np.int32(mode(X_cal.reshape(X_cal.size))[0])\n",
    "print \"most common bin :\" + str(md)\n",
    "\n",
    "#define which correlations to compute\n",
    "correlations=[]\n",
    "for ii in xrange(nbin-1):\n",
    "    correlations.append((ii, ii))\n",
    "\n",
    "prim_basis = PrimitiveBasis(n_states=nbin, domain=(0,nbin-1))\n",
    "\n",
    "#compute using loop to avoid memory issues\n",
    "corr_cal = np.zeros((X_cal.shape[0], el, el ,el, len(correlations)))\n",
    "for ii in xrange(X_cal.shape[0]):\n",
    "    corr_cal[ii,...] = correlate(X_cal[ii,...], prim_basis, correlations=correlations)\n",
    "print \"correlations for training set computed\"\n",
    "    \n",
    "    \n",
    "corr_val = np.zeros((X_val.shape[0], el, el ,el, len(correlations)))\n",
    "for ii in xrange(X_val.shape[0]):\n",
    "    corr_val[ii,...] = correlate(X_val[ii,...], prim_basis, correlations=correlations)\n",
    "print \"correlations for test set computed\""
   ]
  },
  {
   "cell_type": "code",
   "execution_count": 12,
   "metadata": {
    "collapsed": false
   },
   "outputs": [
    {
     "name": "stdout",
     "output_type": "stream",
     "text": [
      "31\n"
     ]
    },
    {
     "data": {
      "text/plain": [
       "(21L, 21L, 21L, 31L)"
      ]
     },
     "execution_count": 12,
     "metadata": {},
     "output_type": "execute_result"
    }
   ],
   "source": [
    "print len(correlations)\n",
    "correlate(X_cal[0,...], prim_basis, correlations=correlations).shape"
   ]
  },
  {
   "cell_type": "code",
   "execution_count": 26,
   "metadata": {
    "collapsed": false
   },
   "outputs": [
    {
     "data": {
      "text/plain": [
       "<matplotlib.colorbar.Colorbar at 0x69d3d8d0>"
      ]
     },
     "execution_count": 26,
     "metadata": {},
     "output_type": "execute_result"
    },
    {
     "data": {
      "image/png": "[encoded data removed]",
      "text/plain": [
       "<matplotlib.figure.Figure at 0x69b0c7b8>"
      ]
     },
     "metadata": {},
     "output_type": "display_data"
    }
   ],
   "source": [
    "plt.figure(figsize=[5, 3])\n",
    "ax = plt.imshow(corr_val[0, 10, :, :, 5], origin='lower',\n",
    "                interpolation='none', cmap='magma')\n",
    "plt.colorbar(ax)"
   ]
  },
  {
   "cell_type": "code",
   "execution_count": 14,
   "metadata": {
    "collapsed": false,
    "scrolled": false
   },
   "outputs": [
    {
     "data": {
      "image/png": "[encoded data removed]",
      "text/plain": [
       "<matplotlib.figure.Figure at 0x6e0a4e0>"
      ]
     },
     "metadata": {},
     "output_type": "display_data"
    },
    {
     "data": {
      "image/png": "[encoded data removed]",
      "text/plain": [
       "<matplotlib.figure.Figure at 0x7051198>"
      ]
     },
     "metadata": {},
     "output_type": "display_data"
    }
   ],
   "source": [
    "from sklearn.decomposition import PCA\n",
    "import matplotlib.cm as cm\n",
    "\n",
    "pca = PCA()\n",
    "pca.fit(corr_cal.reshape(nc*n_class, (nbin-1)*el**3))\n",
    "\n",
    "plt.figure(figsize=[5, 3])\n",
    "cev = np.cumsum(pca.explained_variance_ratio_)*100\n",
    "plt.plot(np.arange(cev.size)+1, cev)\n",
    "\n",
    "red_cal = pca.transform(corr_cal.reshape(nc*n_class, (nbin-1)*el**3))\n",
    "red_val = pca.transform(corr_val.reshape(nv*n_class, (nbin-1)*el**3))\n",
    "\n",
    "plt.figure(figsize=[7, 5])\n",
    "\n",
    "for ii in xrange(n_class):\n",
    "    d1 = ii*nc\n",
    "    d2 = (ii+1)*nc\n",
    "    e1 = ii*nv\n",
    "    e2 = (ii+1)*nv\n",
    "    c = cm.rainbow(ii/np.float16(n_class))\n",
    "    plt.scatter(red_cal[d1:d2, 0], red_cal[d1:d2, 1], c=c)\n",
    "    plt.scatter(red_val[e1:e2, 0], red_val[e1:e2, 1], c=c)"
   ]
  },
  {
   "cell_type": "code",
   "execution_count": 15,
   "metadata": {
    "collapsed": false
   },
   "outputs": [
    {
     "data": {
      "text/plain": [
       "[<matplotlib.lines.Line2D at 0x680d9358>]"
      ]
     },
     "execution_count": 15,
     "metadata": {},
     "output_type": "execute_result"
    },
    {
     "data": {
      "image/png": "[encoded data removed]",
      "text/plain": [
       "<matplotlib.figure.Figure at 0x5331ec50>"
      ]
     },
     "metadata": {},
     "output_type": "display_data"
    }
   ],
   "source": [
    "from sklearn.linear_model import LinearRegression\n",
    "from sklearn.model_selection import cross_val_predict\n",
    "\n",
    "# find the best linkage\n",
    "\n",
    "err_cal = np.zeros((nbin-1,))\n",
    "err_cv = np.zeros((nbin-1,))\n",
    "mean_y_st = np.mean(y_st)\n",
    "\n",
    "for ii in xrange(nbin-1):\n",
    "    linreg = LinearRegression()\n",
    "    linreg.fit(red_cal[:,:(ii+1)], y_st_cal)\n",
    "    y_st_cal_pred = linreg.predict(red_cal[:,:(ii+1)])\n",
    "    err_cal[ii] = 100*np.mean(np.abs(y_st_cal_pred-y_st_cal)/mean_y_st)\n",
    "\n",
    "    y_st_cv_pred = cross_val_predict(linreg, red_cal[:,:(ii+1)], y_st_cal, cv=nc*n_class) \n",
    "    err_cv[ii] = 100*np.mean(np.abs(y_st_cv_pred-y_st_cal)/mean_y_st)\n",
    "\n",
    "plt.figure(figsize=[7, 5])\n",
    "plt.plot(np.arange(nbin-1)+1, err_cal)\n",
    "plt.plot(np.arange(nbin-1)+1, err_cv)"
   ]
  },
  {
   "cell_type": "code",
   "execution_count": 16,
   "metadata": {
    "collapsed": false
   },
   "outputs": [
    {
     "data": {
      "text/plain": [
       "<matplotlib.collections.PathCollection at 0x533d8c18>"
      ]
     },
     "execution_count": 16,
     "metadata": {},
     "output_type": "execute_result"
    },
    {
     "data": {
      "image/png": "[encoded data removed]",
      "text/plain": [
       "<matplotlib.figure.Figure at 0x71e1438>"
      ]
     },
     "metadata": {},
     "output_type": "display_data"
    }
   ],
   "source": [
    "npc = 12\n",
    "\n",
    "linreg = LinearRegression()\n",
    "linreg.fit(red_cal[:,:npc], y_st_cal)\n",
    "\n",
    "y_st_cal_pred = linreg.predict(red_cal[:,:npc])\n",
    "y_st_val_pred = linreg.predict(red_val[:,:npc])\n",
    "\n",
    "plt.figure(figsize=[5, 5])\n",
    "plt.scatter(y_st_cal, y_st_cal_pred, c='b')\n",
    "plt.scatter(y_st_val, y_st_val_pred, c='r')\n"
   ]
  },
  {
   "cell_type": "code",
   "execution_count": null,
   "metadata": {
    "collapsed": true
   },
   "outputs": [],
   "source": []
  }
 ],
 "metadata": {
  "kernelspec": {
   "display_name": "Python 2",
   "language": "python",
   "name": "python2"
  },
  "language_info": {
   "codemirror_mode": {
    "name": "ipython",
    "version": 2
   },
   "file_extension": ".py",
   "mimetype": "text/x-python",
   "name": "python",
   "nbconvert_exporter": "python",
   "pygments_lexer": "ipython2",
   "version": "2.7.11"
  }
 },
 "nbformat": 4,
 "nbformat_minor": 0
}
