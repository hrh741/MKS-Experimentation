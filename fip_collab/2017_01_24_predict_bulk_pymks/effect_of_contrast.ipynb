{
 "cells": [
  {
   "cell_type": "code",
   "execution_count": 1,
   "metadata": {
    "collapsed": false
   },
   "outputs": [],
   "source": [
    "import pymks\n",
    "\n",
    "%matplotlib inline\n",
    "%load_ext autoreload\n",
    "%autoreload 2\n",
    "\n",
    "import numpy as np\n",
    "import matplotlib.pyplot as plt"
   ]
  },
  {
   "cell_type": "code",
   "execution_count": 5,
   "metadata": {
    "collapsed": false
   },
   "outputs": [],
   "source": [
    "from pymks.datasets import make_elastic_stress_random\n",
    "\n",
    "\n",
    "sample_size = 200\n",
    "grain_size = [(15, 2), (2, 15), (7, 7), (8, 3), (3, 9), (2, 2)]\n",
    "n_sets = len(grain_size)\n",
    "n_samples = [sample_size] * n_sets\n",
    "\n",
    "cvec = np.zeros((n_sets*sample_size,))\n",
    "for ii in xrange(n_sets):\n",
    "    c = ii*sample_size\n",
    "    c_ = (ii+1)*sample_size\n",
    "    cvec[c:c_]=ii\n",
    "\n",
    "elastic_modulus = (100, 10000)\n",
    "poissons_ratio = (0.3, 0.3)\n",
    "macro_strain = 0.001\n",
    "size = (21, 21)\n",
    "\n",
    "X, y = make_elastic_stress_random(n_samples=n_samples, size=size, grain_size=grain_size,\n",
    "                                  elastic_modulus=elastic_modulus, poissons_ratio=poissons_ratio,\n",
    "                                  macro_strain=macro_strain, seed=0)\n",
    "\n",
    "y = y/macro_strain"
   ]
  },
  {
   "cell_type": "code",
   "execution_count": 6,
   "metadata": {
    "collapsed": false
   },
   "outputs": [
    {
     "name": "stdout",
     "output_type": "stream",
     "text": [
      "(1200L, 21L, 21L)\n",
      "(1200L,)\n"
     ]
    }
   ],
   "source": [
    "print(X.shape)\n",
    "print(y.shape)"
   ]
  },
  {
   "cell_type": "code",
   "execution_count": 7,
   "metadata": {
    "collapsed": false
   },
   "outputs": [
    {
     "name": "stderr",
     "output_type": "stream",
     "text": [
      "C:\\Users\\nhpnp3\\AppData\\Local\\Continuum\\Anaconda\\lib\\site-packages\\sklearn\\cross_validation.py:44: DeprecationWarning: This module was deprecated in version 0.18 in favor of the model_selection module into which all the refactored classes and functions are moved. Also note that the interface of the new CV iterators are different from that of this module. This module will be removed in 0.20.\n",
      "  \"This module will be removed in 0.20.\", DeprecationWarning)\n",
      "C:\\Users\\nhpnp3\\AppData\\Local\\Continuum\\Anaconda\\lib\\site-packages\\sklearn\\learning_curve.py:23: DeprecationWarning: This module was deprecated in version 0.18 in favor of the model_selection module into which all the functions are moved. This module will be removed in 0.20\n",
      "  DeprecationWarning)\n"
     ]
    },
    {
     "data": {
      "image/png": "[encoded data removed]",
      "text/plain": [
       "<matplotlib.figure.Figure at 0xd061518>"
      ]
     },
     "metadata": {},
     "output_type": "display_data"
    },
    {
     "name": "stdout",
     "output_type": "stream",
     "text": [
      "[ 3081.93184539  -782.80191455  -344.28151324  1859.91707529  -650.62559464\n",
      "   784.36728922]\n"
     ]
    }
   ],
   "source": [
    "from pymks.tools import draw_microstructures\n",
    "\n",
    "\n",
    "X_examples = X[::sample_size]\n",
    "draw_microstructures(X_examples[:6])\n",
    "print y[::sample_size]"
   ]
  },
  {
   "cell_type": "code",
   "execution_count": null,
   "metadata": {
    "collapsed": false
   },
   "outputs": [],
   "source": [
    "tmp = np.argmin(y)\n",
    "print tmp\n",
    "print y[tmp]\n",
    "tmp2=X[tmp, ...]\n",
    "tmp2 = tmp2[None, :, :]\n",
    "print tmp2.shape\n",
    "draw_microstructures(tmp2)"
   ]
  },
  {
   "cell_type": "code",
   "execution_count": null,
   "metadata": {
    "collapsed": false
   },
   "outputs": [],
   "source": [
    "import get_M\n",
    "\n",
    "M = get_M.get_M(X)"
   ]
  },
  {
   "cell_type": "code",
   "execution_count": null,
   "metadata": {
    "collapsed": false
   },
   "outputs": [],
   "source": [
    "import correlate as corr\n",
    "\n",
    "tail = 0  # phase at tail of vector\n",
    "head = 0  # phase at head of vector\n",
    "ff = corr.correlate(M, tail, head)"
   ]
  },
  {
   "cell_type": "code",
   "execution_count": null,
   "metadata": {
    "collapsed": false
   },
   "outputs": [],
   "source": [
    "from plot_correlation import pltcorr\n",
    "\n",
    "sn = 0\n",
    "pltcorr(X[sn, ...], ff[sn, ...])"
   ]
  },
  {
   "cell_type": "code",
   "execution_count": null,
   "metadata": {
    "collapsed": false
   },
   "outputs": [],
   "source": [
    "from get_new_space import new_space\n",
    "\n",
    "pca, red, ratios = new_space(ff)\n",
    "\n",
    "print red.shape"
   ]
  },
  {
   "cell_type": "code",
   "execution_count": null,
   "metadata": {
    "collapsed": false,
    "scrolled": true
   },
   "outputs": [],
   "source": [
    "from plot_explained_variance import variance\n",
    "\n",
    "variance([.5, 100, 80, 105], ratios)"
   ]
  },
  {
   "cell_type": "code",
   "execution_count": null,
   "metadata": {
    "collapsed": false
   },
   "outputs": [],
   "source": [
    "from plot_pc_map import pltmap\n",
    "\n",
    "pcA = 0\n",
    "pcB = 1\n",
    "\n",
    "pltmap(red, pcA, pcB, n_sets, sample_size)"
   ]
  },
  {
   "cell_type": "code",
   "execution_count": null,
   "metadata": {
    "collapsed": false
   },
   "outputs": [],
   "source": [
    "from get_linkage import linkage\n",
    "\n",
    "red_c = red[:5*sample_size,...]\n",
    "red_v = red[5*sample_size:,...]\n",
    "cvec_c = cvec[:5*sample_size]\n",
    "y_c = y[:5*sample_size]\n",
    "y_v = y[5*sample_size:]\n",
    "\n",
    "n_pc_max = 15\n",
    "n_poly_max = 3\n",
    "\n",
    "Rpred_c, Rpred_cv, Rpred_v, order = linkage(red_c, red_v, cvec_c,\n",
    "                                            y_c, y_v,\n",
    "                                            n_pc_max, n_poly_max)"
   ]
  },
  {
   "cell_type": "code",
   "execution_count": null,
   "metadata": {
    "collapsed": false
   },
   "outputs": [],
   "source": [
    "from plot_err_v_pc import plterr\n",
    "\n",
    "ubnd = 4\n",
    "deg = 2\n",
    "plterr(Rpred_c, y_c, order, deg, n_pc_max, ubnd)\n",
    "plterr(Rpred_cv, y_c, order, deg, n_pc_max, ubnd)\n",
    "plterr(Rpred_v, y_v, order, deg, n_pc_max, ubnd)"
   ]
  },
  {
   "cell_type": "code",
   "execution_count": null,
   "metadata": {
    "collapsed": false
   },
   "outputs": [],
   "source": [
    "from plot_parity import parity\n",
    "\n",
    "Rpred = np.zeros((n_pc_max*n_poly_max, sample_size*n_sets))\n",
    "Rpred[:, :5*sample_size]=Rpred_c\n",
    "Rpred[:, 5*sample_size:]=Rpred_v\n",
    "\n",
    "n_pc = 10\n",
    "n_poly = 3\n",
    "parity(y, Rpred, order, sample_size, n_sets, n_pc, n_poly)"
   ]
  },
  {
   "cell_type": "code",
   "execution_count": null,
   "metadata": {
    "collapsed": true
   },
   "outputs": [],
   "source": []
  }
 ],
 "metadata": {
  "kernelspec": {
   "display_name": "Python 2",
   "language": "python",
   "name": "python2"
  }
 },
 "nbformat": 4,
 "nbformat_minor": 0
}
