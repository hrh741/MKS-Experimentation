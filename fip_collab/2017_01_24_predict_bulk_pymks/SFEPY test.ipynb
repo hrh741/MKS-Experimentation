{
 "cells": [
  {
   "cell_type": "code",
   "execution_count": 22,
   "metadata": {
    "collapsed": false
   },
   "outputs": [
    {
     "name": "stdout",
     "output_type": "stream",
     "text": [
      "The autoreload extension is already loaded. To reload it, use:\n",
      "  %reload_ext autoreload\n"
     ]
    }
   ],
   "source": [
    "import pymks\n",
    "\n",
    "%matplotlib inline\n",
    "%load_ext autoreload\n",
    "%autoreload 2\n",
    "\n",
    "import numpy as np\n",
    "import matplotlib.pyplot as plt"
   ]
  },
  {
   "cell_type": "code",
   "execution_count": 56,
   "metadata": {
    "collapsed": false
   },
   "outputs": [],
   "source": [
    "from pymks.datasets import make_elastic_stress_random\n",
    "\n",
    "\n",
    "res = make_elastic_FE_strain_random(n_samples=1,elastic_modulus=(100, 10000), poissons_ratio=(0.3, 0.3),\n",
    "                                    size=(21, 21),\n",
    "                                    macro_strain=0.01)\n",
    "micr = res[0]\n",
    "resp = res[1]\n",
    "\n"
   ]
  },
  {
   "cell_type": "code",
   "execution_count": 57,
   "metadata": {
    "collapsed": false
   },
   "outputs": [
    {
     "name": "stdout",
     "output_type": "stream",
     "text": [
      "(1L, 21L, 21L)\n",
      "-0.00082518983162\n",
      "0.01\n",
      "0.090153228804\n"
     ]
    }
   ],
   "source": [
    "print resp.shape\n",
    "print resp.min()\n",
    "print resp.mean()\n",
    "print resp.max()"
   ]
  },
  {
   "cell_type": "code",
   "execution_count": null,
   "metadata": {
    "collapsed": true
   },
   "outputs": [],
   "source": []
  }
 ],
 "metadata": {
  "kernelspec": {
   "display_name": "Python 2",
   "language": "python",
   "name": "python2"
  },
  "language_info": {
   "codemirror_mode": {
    "name": "ipython",
    "version": 2
   },
   "file_extension": ".py",
   "mimetype": "text/x-python",
   "name": "python",
   "nbconvert_exporter": "python",
   "pygments_lexer": "ipython2",
   "version": "2.7.11"
  }
 },
 "nbformat": 4,
 "nbformat_minor": 0
}
