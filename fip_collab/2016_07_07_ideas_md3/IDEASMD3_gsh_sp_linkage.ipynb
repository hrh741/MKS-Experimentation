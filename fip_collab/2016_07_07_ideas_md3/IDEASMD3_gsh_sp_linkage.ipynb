{
 "cells": [
  {
   "cell_type": "code",
   "execution_count": 1,
   "metadata": {
    "collapsed": false
   },
   "outputs": [],
   "source": [
    "%matplotlib inline\n",
    "%load_ext autoreload\n",
    "%autoreload 2\n",
    "\n",
    "import h5py\n",
    "import matplotlib.pyplot as plt\n",
    "from constants import const\n",
    "import vtk_read as vtk\n",
    "import get_M\n",
    "import correlate as corr\n",
    "import plot_correlation as pltcorr\n",
    "import get_new_space as gns\n",
    "import transform as tf\n",
    "import plot_explained_variance_all as pev\n",
    "import plot_pc_map as pltmap\n",
    "import plot_pc_map_3d as pltmap3d\n",
    "import plot_dendrogram as pd\n",
    "import get_response as gr\n",
    "import get_linkage as gl\n",
    "import plot_pc_vs_poly_all as ppp\n",
    "import plot_linkage_check as plc\n",
    "\n",
    "C = const()\n",
    "\n",
    "set_id_cal = C['set_id_cal']\n",
    "strt_cal = C['strt_cal']\n",
    "ns_cal = C['ns_cal']\n",
    "dir_cal = C['dir_cal']\n",
    "names_cal = C['names_cal']\n",
    "\n",
    "set_id_val = C['set_id_val']\n",
    "strt_val = C['strt_val']\n",
    "ns_val = C['ns_val']\n",
    "dir_val = C['dir_val']\n",
    "names_val = C['names_val']"
   ]
  },
  {
   "cell_type": "code",
   "execution_count": 2,
   "metadata": {
    "collapsed": true
   },
   "outputs": [],
   "source": [
    "Hvec = [9]\n",
    "\n",
    "f = h5py.File(\"spatial_L%s.hdf5\" % C['H'], 'w')\n",
    "f.close()\n",
    "\n",
    "\"\"\"Gather data from vtk files\"\"\"\n",
    "for ii in xrange(len(set_id_cal)):\n",
    "    vtk.read_euler(strt_cal[ii], ns_cal[ii], set_id_cal[ii],\n",
    "                   dir_cal[ii], 0)\n",
    "for ii in xrange(len(set_id_val)):\n",
    "    vtk.read_euler(strt_val[ii], ns_val[ii], set_id_val[ii],\n",
    "                   dir_val[ii], 0)\n",
    "\n",
    "\"\"\"Compute GSH coefficients to create microstructure function in real and\n",
    "fourier space\"\"\"\n",
    "for ii in xrange(len(set_id_cal)):\n",
    "    get_M.get_M(ns_cal[ii], set_id_cal[ii])\n",
    "for ii in xrange(len(set_id_val)):\n",
    "    get_M.get_M(ns_val[ii], set_id_val[ii])\n",
    "\n",
    "\"\"\"Compute the periodic statistics for the microstructures\"\"\"\n",
    "for ii in xrange(len(set_id_cal)):\n",
    "    corr.correlate(ns_cal[ii], set_id_cal[ii])\n",
    "for ii in xrange(len(set_id_val)):\n",
    "    corr.correlate(ns_val[ii], set_id_val[ii])"
   ]
  },
  {
   "cell_type": "code",
   "execution_count": 3,
   "metadata": {
    "collapsed": false
   },
   "outputs": [
    {
     "data": {
      "image/png": "[encoded data removed]",
      "text/plain": [
       "<matplotlib.figure.Figure at 0x3ad8b00>"
      ]
     },
     "metadata": {},
     "output_type": "display_data"
    }
   ],
   "source": [
    "\"\"\"Plot an autocorrelation\"\"\"\n",
    "sn = 0\n",
    "cnum = 9\n",
    "set_num = 1\n",
    "pltcorr.pltcorr(ns_cal[set_num], set_id_cal[set_num], sn, cnum)"
   ]
  },
  {
   "cell_type": "code",
   "execution_count": 4,
   "metadata": {
    "collapsed": false
   },
   "outputs": [
    {
     "data": {
      "image/png": "[encoded data removed]",
      "text/plain": [
       "<matplotlib.figure.Figure at 0x3ad8d30>"
      ]
     },
     "metadata": {},
     "output_type": "display_data"
    }
   ],
   "source": [
    "\"\"\"Perform PCA on correlations\"\"\"\n",
    "pca = gns.new_space(ns_cal, set_id_cal)\n",
    "\n",
    "\"\"\"transform statistics to reduced dimensionality space\"\"\"\n",
    "f = h5py.File(\"spatial_reduced_L%s.hdf5\" % C['H'], 'w')\n",
    "f.close()\n",
    "\n",
    "for ii in xrange(len(set_id_cal)):\n",
    "    tf.transform(ns_cal[ii], set_id_cal[ii], pca)\n",
    "for ii in xrange(len(set_id_val)):\n",
    "    tf.transform(ns_val[ii], set_id_val[ii], pca)\n",
    "\n",
    "\"\"\"Plot the percentage explained variance\"\"\"\n",
    "%matplotlib inline\n",
    "pev.variance([0, 15, 40, 105], Hvec)"
   ]
  },
  {
   "cell_type": "code",
   "execution_count": null,
   "metadata": {
    "collapsed": false
   },
   "outputs": [],
   "source": [
    "\"\"\"Plot the microstructures in PC space\"\"\"\n",
    "pcA = 0\n",
    "pcB = 1\n",
    "pcC = 2\n",
    "\n",
    "pltmap3d.pltmap(9, pcA, pcB, pcC)"
   ]
  },
  {
   "cell_type": "code",
   "execution_count": null,
   "metadata": {
    "collapsed": false
   },
   "outputs": [],
   "source": [
    "%matplotlib inline\n",
    "\n",
    "\"\"\"Plot a dendrogram\"\"\"\n",
    "pd.pltdend(ns_val, set_id_val, names_val, 9)"
   ]
  },
  {
   "cell_type": "code",
   "execution_count": null,
   "metadata": {
    "collapsed": true
   },
   "outputs": [],
   "source": [
    "\"\"\"get the data for the linkage\"\"\"\n",
    "\n",
    "f = h5py.File(\"responses.hdf5\", 'w')\n",
    "f.close()\n",
    "\n",
    "bc = 'bc1'\n",
    "\n",
    "for ii in xrange(len(set_id_cal)):\n",
    "    gr.resp(ns_cal[ii], strt_cal[ii], names_cal[ii],\n",
    "            set_id_cal[ii], bc, C['dir_resp'])\n",
    "for ii in xrange(len(set_id_val)):\n",
    "    gr.resp(ns_val[ii], strt_val[ii], names_val[ii],\n",
    "            set_id_val[ii], bc, C['dir_resp'])"
   ]
  },
  {
   "cell_type": "code",
   "execution_count": null,
   "metadata": {
    "collapsed": true
   },
   "outputs": [],
   "source": [
    "\"\"\"create the specified array of linkages and cross validate\"\"\"\n",
    "\n",
    "f = h5py.File(\"regression_results_L%s.hdf5\" % C['H'], 'w')\n",
    "f.close()\n",
    "\n",
    "gl.linkage('modulus')\n",
    "gl.linkage('strength')"
   ]
  },
  {
   "cell_type": "code",
   "execution_count": null,
   "metadata": {
    "collapsed": false
   },
   "outputs": [],
   "source": [
    "\"\"\"Plot the errors versus number of PCs and polynomial order\"\"\"\n",
    "%matplotlib inline\n",
    "ppp.pltpcpoly('modulus', 30, 2, Hvec)\n",
    "ppp.pltpcpoly('strength', 30, 4, Hvec)"
   ]
  },
  {
   "cell_type": "code",
   "execution_count": null,
   "metadata": {
    "collapsed": false
   },
   "outputs": [],
   "source": [
    "\"\"\"Plot the predicted versus actual values of the property of interest\"\"\"\n",
    "%matplotlib inline\n",
    "plc.plot_check('modulus', n_pc=30, n_poly=2, H=9)\n",
    "plc.plot_check('strength', n_pc=30, n_poly=2, H=9)"
   ]
  },
  {
   "cell_type": "code",
   "execution_count": null,
   "metadata": {
    "collapsed": true
   },
   "outputs": [],
   "source": []
  }
 ],
 "metadata": {
  "kernelspec": {
   "display_name": "Python 2",
   "language": "python",
   "name": "python2"
  },
  "language_info": {
   "codemirror_mode": {
    "name": "ipython",
    "version": 2
   },
   "file_extension": ".py",
   "mimetype": "text/x-python",
   "name": "python",
   "nbconvert_exporter": "python",
   "pygments_lexer": "ipython2",
   "version": "2.7.11"
  }
 },
 "nbformat": 4,
 "nbformat_minor": 0
}
