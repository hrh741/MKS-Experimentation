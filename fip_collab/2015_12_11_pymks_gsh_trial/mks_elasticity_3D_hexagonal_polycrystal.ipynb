{
 "cells": [
  {
   "cell_type": "code",
   "execution_count": null,
   "metadata": {
    "collapsed": false
   },
   "outputs": [],
   "source": [
    "%matplotlib inline\n",
    "%load_ext autoreload\n",
    "%autoreload 2\n",
    "\n",
    "import numpy as np\n",
    "import matplotlib.pyplot as plt"
   ]
  },
  {
   "cell_type": "markdown",
   "metadata": {},
   "source": [
    "Now we download the data from an online repository"
   ]
  },
  {
   "cell_type": "code",
   "execution_count": null,
   "metadata": {
    "collapsed": false
   },
   "outputs": [],
   "source": [
    "from pymks_share import DataManager\n",
    "\n",
    "manager = DataManager('pymks.me.gatech.edu')\n",
    "print manager.list_datasets()\n",
    "X, y  = manager.fetch_data('random hexagonal orientations')\n",
    "\n",
    "print X.shape\n",
    "print y.shape"
   ]
  },
  {
   "cell_type": "markdown",
   "metadata": {},
   "source": [
    "plot a microstructure (phi1 angle only) and response pair"
   ]
  },
  {
   "cell_type": "code",
   "execution_count": null,
   "metadata": {
    "collapsed": false
   },
   "outputs": [],
   "source": [
    "from pymks.tools import draw_microstructure_strain\n",
    "\n",
    "n = X.shape[1]\n",
    "center = (n-1) / 2\n",
    "draw_microstructure_strain(X[0, :, :, center, 0], y[0, :, :,center])\n"
   ]
  },
  {
   "cell_type": "markdown",
   "metadata": {},
   "source": [
    "Split the data into calibration and validation sets"
   ]
  },
  {
   "cell_type": "code",
   "execution_count": null,
   "metadata": {
    "collapsed": false
   },
   "outputs": [],
   "source": [
    "X_cal = X[0:40, ...]\n",
    "\n",
    "print X_cal.shape\n",
    "\n",
    "X_val = X[40:, ...]\n",
    "y_cal = y[0:40, ...]\n",
    "y_val = y[40:, ...]"
   ]
  },
  {
   "cell_type": "code",
   "execution_count": null,
   "metadata": {
    "collapsed": false
   },
   "outputs": [],
   "source": [
    "from pymks import MKSLocalizationModel\n",
    "from pymks.bases import GSHBasisHexagonal\n",
    "import pickle\n",
    "\n",
    "gsh_hex_basis = GSHBasisHexagonal(n_states=15, domain=[-1, 7])\n",
    "\n",
    "print gsh_hex_basis.discretize(X_cal).shape\n",
    "pickle.dump(gsh_hex_basis.discretize(X_cal), open('X_GSH_PYMKS.pkl','w'))\n",
    "\n",
    "model = MKSLocalizationModel(basis=gsh_hex_basis)"
   ]
  },
  {
   "cell_type": "code",
   "execution_count": null,
   "metadata": {
    "collapsed": false
   },
   "outputs": [],
   "source": [
    "print np.min(X_cal), np.max(X_cal)\n",
    "model.fit(X_cal, y_cal)"
   ]
  },
  {
   "cell_type": "code",
   "execution_count": null,
   "metadata": {
    "collapsed": false
   },
   "outputs": [],
   "source": [
    "from pymks.tools import draw_coeff\n",
    "\n",
    "coeff = model.coeff\n",
    "draw_coeff(np.real(coeff[:,center, :, :]))"
   ]
  },
  {
   "cell_type": "code",
   "execution_count": null,
   "metadata": {
    "collapsed": false
   },
   "outputs": [],
   "source": [
    "y_predict = model.predict(X_val)\n"
   ]
  },
  {
   "cell_type": "code",
   "execution_count": null,
   "metadata": {
    "collapsed": true
   },
   "outputs": [],
   "source": []
  },
  {
   "cell_type": "code",
   "execution_count": null,
   "metadata": {
    "collapsed": true
   },
   "outputs": [],
   "source": []
  }
 ],
 "metadata": {
  "kernelspec": {
   "display_name": "Python 2",
   "language": "python",
   "name": "python2"
  },
  "language_info": {
   "codemirror_mode": {
    "name": "ipython",
    "version": 2
   },
   "file_extension": ".py",
   "mimetype": "text/x-python",
   "name": "python",
   "nbconvert_exporter": "python",
   "pygments_lexer": "ipython2",
   "version": "2.7.10"
  }
 },
 "nbformat": 4,
 "nbformat_minor": 0
}
