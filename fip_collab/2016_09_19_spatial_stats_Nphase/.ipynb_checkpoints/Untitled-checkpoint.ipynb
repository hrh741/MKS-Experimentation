{
 "cells": [
  {
   "cell_type": "code",
   "execution_count": 9,
   "metadata": {
    "collapsed": false
   },
   "outputs": [
    {
     "name": "stdout",
     "output_type": "stream",
     "text": [
      "The autoreload extension is already loaded. To reload it, use:\n",
      "  %reload_ext autoreload\n"
     ]
    }
   ],
   "source": [
    "%matplotlib inline\n",
    "%load_ext autoreload\n",
    "%autoreload 2\n",
    "\n",
    "import sve_gen as gen\n",
    "import get_M as gm\n",
    "import correlate as corr\n",
    "import plot_correlation as pltcorr\n",
    "import pca_on_correlations as pcaC\n",
    "import plot_pc_map as pltPC\n",
    "import time\n",
    "import h5py"
   ]
  },
  {
   "cell_type": "code",
   "execution_count": 10,
   "metadata": {
    "collapsed": true
   },
   "outputs": [],
   "source": [
    "ns_cal = [10, 30, 30]\n",
    "set_id_cal = ['inclusion', 'bicrystal', 'gaussian']\n",
    "\n",
    "# ns_cal = [30, 30, 30]\n",
    "# set_id_cal = ['incl1', 'incl2', 'incl3']\n",
    "\n",
    "el = 21\n",
    "H = 2\n",
    "\n",
    "wrt_file = 'log_%s.txt' % (time.strftime(\"%Y-%m-%d_h%Hm%M\"))"
   ]
  },
  {
   "cell_type": "code",
   "execution_count": 11,
   "metadata": {
    "collapsed": false
   },
   "outputs": [
    {
     "name": "stdout",
     "output_type": "stream",
     "text": [
      "10 SVEs with inclusions generated: 0.072s\n",
      "30 bicrystal SVEs generated: 0.621s\n",
      "30 bicrystal SVEs generated: 0.047s\n"
     ]
    }
   ],
   "source": [
    "\"\"\"Generate microstructures\"\"\"\n",
    "\n",
    "f = h5py.File(\"spatial_stats.hdf5\", 'w')\n",
    "f.close()\n",
    "\n",
    "vfrac = [.1]\n",
    "gen.inclusion_red(el, ns_cal[0], H, set_id_cal[0], wrt_file, vfrac)\n",
    "\n",
    "gen.bicrystal_orthog(el, ns_cal[1], H, set_id_cal[1], wrt_file)\n",
    "gen.improcess(el, ns_cal[2], H, set_id_cal[2], wrt_file)\n",
    "\n",
    "# # gen.delta(el, ns_cal[0], H, set_id_cal[0], wrt_file)\n",
    "\n",
    "# vfrac = [.075, .125]\n",
    "# gen.inclusion_red(el, ns_cal[0], H, set_id_cal[0], wrt_file, vfrac)\n",
    "# vfrac = [.100, .100]\n",
    "# gen.inclusion_red(el, ns_cal[1], H, set_id_cal[1], wrt_file, vfrac)\n",
    "# vfrac = [.125, .075]\n",
    "# gen.inclusion_red(el, ns_cal[2], H, set_id_cal[2], wrt_file, vfrac)\n",
    "\n",
    "# gen.bicrystal_orthog(el, ns_cal[1], H, set_id_cal[1], wrt_file)\n",
    "# gen.improcess(el, ns_cal[2], H, set_id_cal[2], wrt_file)"
   ]
  },
  {
   "cell_type": "code",
   "execution_count": 12,
   "metadata": {
    "collapsed": false
   },
   "outputs": [
    {
     "name": "stdout",
     "output_type": "stream",
     "text": [
      "M computed: 0.589s\n",
      "M computed: 1.356s\n",
      "M computed: 1.988s\n"
     ]
    }
   ],
   "source": [
    "\"\"\"Generate the fourier space microstructure functions\"\"\"\n",
    "\n",
    "for ii in xrange(len(set_id_cal)):\n",
    "    gm.get_M(el, ns_cal[ii], H, set_id_cal[ii], wrt_file)"
   ]
  },
  {
   "cell_type": "code",
   "execution_count": 13,
   "metadata": {
    "collapsed": false
   },
   "outputs": [
    {
     "name": "stdout",
     "output_type": "stream",
     "text": [
      "ff = 0.006 gb\n",
      "correlations computed: 1.137s\n",
      "ff = 0.018 gb\n",
      "correlations computed: 3.563s\n",
      "ff = 0.018 gb\n",
      "correlations computed: 4.325s\n"
     ]
    }
   ],
   "source": [
    "\"\"\"Compute the periodic statistics for the microstructures\"\"\"\n",
    "for ii in xrange(len(set_id_cal)):\n",
    "    corr.correlate(el, ns_cal[ii], H, set_id_cal[ii], wrt_file)"
   ]
  },
  {
   "cell_type": "code",
   "execution_count": 14,
   "metadata": {
    "collapsed": false
   },
   "outputs": [
    {
     "data": {
      "image/png": "[encoded data removed]",
      "text/plain": [
       "<matplotlib.figure.Figure at 0x1bbba978>"
      ]
     },
     "metadata": {},
     "output_type": "display_data"
    },
    {
     "name": "stdout",
     "output_type": "stream",
     "text": [
      "PCA completed: 0.917s\n"
     ]
    }
   ],
   "source": [
    "\"\"\"Perform PCA on autocorrelations\"\"\"\n",
    "pcaC.doPCA(el, ns_cal, H, set_id_cal, wrt_file)"
   ]
  },
  {
   "cell_type": "code",
   "execution_count": 15,
   "metadata": {
    "collapsed": false
   },
   "outputs": [
    {
     "data": {
      "image/png": "[encoded data removed]",
      "text/plain": [
       "<matplotlib.figure.Figure at 0x1bb9e400>"
      ]
     },
     "metadata": {},
     "output_type": "display_data"
    }
   ],
   "source": [
    "\"\"\"Plot an autocorrelation\"\"\"\n",
    "set_num = 2\n",
    "sn = 0\n",
    "iA = 0\n",
    "iB = 0\n",
    "pltcorr.pltcorr(el, ns_cal[set_num], set_id_cal[set_num], sn, iA, iB)"
   ]
  },
  {
   "cell_type": "code",
   "execution_count": 16,
   "metadata": {
    "collapsed": false
   },
   "outputs": [
    {
     "ename": "AttributeError",
     "evalue": "'module' object has no attribute 'pltmap'",
     "output_type": "error",
     "traceback": [
      "\u001b[1;31m---------------------------------------------------------------------------\u001b[0m",
      "\u001b[1;31mAttributeError\u001b[0m                            Traceback (most recent call last)",
      "\u001b[1;32m<ipython-input-16-5f60e5ca0256>\u001b[0m in \u001b[0;36m<module>\u001b[1;34m()\u001b[0m\n\u001b[0;32m      2\u001b[0m \u001b[0mpcA\u001b[0m \u001b[1;33m=\u001b[0m \u001b[1;36m0\u001b[0m\u001b[1;33m\u001b[0m\u001b[0m\n\u001b[0;32m      3\u001b[0m \u001b[0mpcB\u001b[0m \u001b[1;33m=\u001b[0m \u001b[1;36m1\u001b[0m\u001b[1;33m\u001b[0m\u001b[0m\n\u001b[1;32m----> 4\u001b[1;33m \u001b[0mpltPC\u001b[0m\u001b[1;33m.\u001b[0m\u001b[0mpltmap\u001b[0m\u001b[1;33m(\u001b[0m\u001b[0mns_cal\u001b[0m\u001b[1;33m,\u001b[0m \u001b[0mset_id_cal\u001b[0m\u001b[1;33m,\u001b[0m \u001b[0mpcA\u001b[0m\u001b[1;33m,\u001b[0m \u001b[0mpcB\u001b[0m\u001b[1;33m)\u001b[0m\u001b[1;33m\u001b[0m\u001b[0m\n\u001b[0m",
      "\u001b[1;31mAttributeError\u001b[0m: 'module' object has no attribute 'pltmap'"
     ]
    }
   ],
   "source": [
    "\"\"\"Plot the microstructures in PC space\"\"\"\n",
    "pcA = 0\n",
    "pcB = 1\n",
    "pltPC.pltmap(ns_cal, set_id_cal, pcA, pcB)"
   ]
  },
  {
   "cell_type": "code",
   "execution_count": null,
   "metadata": {
    "collapsed": true
   },
   "outputs": [],
   "source": []
  }
 ],
 "metadata": {
  "kernelspec": {
   "display_name": "Python 2",
   "language": "python",
   "name": "python2"
  },
  "language_info": {
   "codemirror_mode": {
    "name": "ipython",
    "version": 2
   },
   "file_extension": ".py",
   "mimetype": "text/x-python",
   "name": "python",
   "nbconvert_exporter": "python",
   "pygments_lexer": "ipython2",
   "version": "2.7.11"
  }
 },
 "nbformat": 4,
 "nbformat_minor": 0
}
